{
 "cells": [
  {
   "cell_type": "code",
   "execution_count": 1,
   "metadata": {},
   "outputs": [],
   "source": [
    "import pandas as pd\n",
    "import requests\n",
    "from datetime import datetime\n",
    "from bs4 import BeautifulSoup as bs\n",
    "\n",
    "import my_passwords as ps\n",
    "import my_functions as fn "
   ]
  },
  {
   "cell_type": "markdown",
   "metadata": {},
   "source": [
    "Cities"
   ]
  },
  {
   "cell_type": "code",
   "execution_count": 2,
   "metadata": {},
   "outputs": [],
   "source": [
    "cities = [\n",
    "    \"Berlin\",\n",
    "    \"Hamburg\",\n",
    "    \"Munich\",\n",
    "    \"Stuttgart\"\n",
    "]   "
   ]
  },
  {
   "cell_type": "code",
   "execution_count": 3,
   "metadata": {},
   "outputs": [],
   "source": [
    "def get_send_cities_info():\n",
    "    connection_string=fn.connect_to_sql(ps.my_password) # Connect to our database\n",
    "\n",
    "    cities_df=fn.get_cities_info(cities) # Call the function get_cities_info() to generate the cities Dataframe\n",
    "    fn.send_data_to_sql_without_truncate(cities_df.loc[:,[\"city\",\"country_code\"]],'cities',connection_string) # Send data about \"city\" and \"country code\" to the table \"cities\", we can not use truncate here since the city_id is a foreign key in other tables\n",
    "    cities_from_sql = pd.read_sql(\"cities\", con=connection_string) # Read the table \"cities\" from our database\n",
    "\n",
    "    city_infos_df = cities_df.loc[:,[\"city\",\"latitude\",\"longitude\",\"population\",\"year_data_retrieved\"]] # Extract the required columns from the cities Dataframe\n",
    "    city_infos_df = city_infos_df.merge(cities_from_sql, on = \"city\", how=\"left\") # Merge between the city_infos_df and cities_from_sql to get the corresponding city Id for each city infos\n",
    "    city_infos_df = city_infos_df.drop(columns=[\"city\",\"country_code\"]) # Remove the columns \"city\" and \"country_code\" from the Dataframe\n",
    "    city_infos_df = city_infos_df[[\"city_id\",\"latitude\",\"longitude\",\"population\",\"year_data_retrieved\"]] \n",
    "    fn.send_data_to_sql_without_truncate(city_infos_df,'city_infos',connection_string) # Send data about \"city_infos\" to the table \"city_infos\"\n",
    "    \n",
    "    # These 2 lines are optional, they are used to print our SQL table \n",
    "    city_infos_from_sql = pd.read_sql(\"city_infos\", con=connection_string) # Read the table \"city_infos\"\n",
    "    print(city_infos_from_sql)"
   ]
  },
  {
   "cell_type": "markdown",
   "metadata": {},
   "source": [
    "Weather"
   ]
  },
  {
   "cell_type": "code",
   "execution_count": 4,
   "metadata": {},
   "outputs": [],
   "source": [
    "def get_send_weather_info():\n",
    "    connection_string=fn.connect_to_sql(ps.my_password)\n",
    "    cities_from_sql_df = pd.read_sql(\"cities\", con=connection_string) # Read the table \"cities\" to get the list of cities\n",
    "    weather_infos_df=fn.get_weather_info(cities_from_sql_df) # Call the function get_weather_info() to generate the weather Dataframe using the list of cities\n",
    "    fn.send_data_to_sql_with_truncate(weather_infos_df,'weather_infos',connection_string) # Send data about \"weather\" to the table \"weather_infos\"\n",
    "    # Optional code\n",
    "    weather_infos_from_sql = pd.read_sql(\"weather_infos\", con=connection_string) # Read the table \"weather_infos\"\n",
    "    print(weather_infos_from_sql)"
   ]
  },
  {
   "cell_type": "markdown",
   "metadata": {},
   "source": [
    "Airports"
   ]
  },
  {
   "cell_type": "code",
   "execution_count": 5,
   "metadata": {},
   "outputs": [],
   "source": [
    "def get_send_airports_info():\n",
    "    connection_string=fn.connect_to_sql(ps.my_password)\n",
    "    cities_from_sql_df = pd.read_sql(\"cities\", con=connection_string) # Read the table \"cities\" to get the list of cities\n",
    "    airport_infos_df=fn.get_airpots_info(cities_from_sql_df) # Call the function get_airpots_info() to generate the airport Dataframe using the list of cities\n",
    "    fn.send_data_to_sql_without_truncate(airport_infos_df.loc[:,[\"airport_icao\",\"airport_name\"]],'airports',connection_string) # Send data about \"airport_icao\" and \"airport_name\" to the table \"airports\"\n",
    "    fn.send_data_to_sql_with_truncate(airport_infos_df.loc[:,[\"city_id\",\"airport_icao\"]],'cities_airports',connection_string) # Send data about \"airport_icao\" and \"city_id\" to the table \"cities_airports\"\n",
    "    # Optional code\n",
    "    airport_infos_from_sql = pd.read_sql(\"airports\", con=connection_string) # Read the table \"airports\"\n",
    "    print(airport_infos_from_sql)\n",
    "    cities_airports_from_sql = pd.read_sql(\"cities_airports\", con=connection_string) # Read the table \"cities_airports\"\n",
    "    print(cities_airports_from_sql)"
   ]
  },
  {
   "cell_type": "markdown",
   "metadata": {},
   "source": [
    "Flights"
   ]
  },
  {
   "cell_type": "code",
   "execution_count": 6,
   "metadata": {},
   "outputs": [],
   "source": [
    "def get_send_flights_info():\n",
    "    connection_string=fn.connect_to_sql(ps.my_password)\n",
    "    airports_from_sql_df = pd.read_sql(\"airports\", con=connection_string) # Read the table \"airports\" to get the list of airports\n",
    "    flight_infos_df=fn.get_arrival_flights_info(airports_from_sql_df[\"airport_icao\"]) # Call the function get_arrival_flights_info() to generate the flights Dataframe using the list of airports ICAO\n",
    "    fn.send_data_to_sql_with_truncate(flight_infos_df,\"flights\",connection_string) # Send data about \"flights\" to the table \"flights\"\n",
    "    # Optional code\n",
    "    flight_infos_from_sql = pd.read_sql(\"flights\", con=connection_string)\n",
    "    print(flight_infos_from_sql)"
   ]
  },
  {
   "cell_type": "code",
   "execution_count": 7,
   "metadata": {},
   "outputs": [],
   "source": [
    "# This function call all the previous functions to create all the tables of our database\n",
    "def create_all_tables():\n",
    "    get_send_cities_info()\n",
    "    get_send_weather_info()\n",
    "    get_send_airports_info()\n",
    "    get_send_flights_info()"
   ]
  },
  {
   "cell_type": "code",
   "execution_count": 8,
   "metadata": {},
   "outputs": [
    {
     "name": "stdout",
     "output_type": "stream",
     "text": [
      "   city_id    latitude   longitude  population  year_data_retrieved\n",
      "0        1  52°31′12″N  13°24′18″E     3576873                 2024\n",
      "1        2     53°33′N     10°00′E     1945532                 2022\n",
      "2        3  48°08′15″N  11°34′30″E     1512491                 2022\n",
      "3        4  48°46′39″N  09°10′48″E      626275                 2021\n",
      "     weather_id  city_id        weather_time data_collected_time  temperature  \\\n",
      "0             1        1 2024-03-18 00:00:00 2024-03-17 22:49:23          3.0   \n",
      "1             2        1 2024-03-18 03:00:00 2024-03-17 22:49:23          2.0   \n",
      "2             3        1 2024-03-18 06:00:00 2024-03-17 22:49:23          1.0   \n",
      "3             4        1 2024-03-18 09:00:00 2024-03-17 22:49:23          4.0   \n",
      "4             5        1 2024-03-18 12:00:00 2024-03-17 22:49:23          7.0   \n",
      "..          ...      ...                 ...                 ...          ...   \n",
      "155         156        4 2024-03-22 09:00:00 2024-03-17 22:49:24         15.0   \n",
      "156         157        4 2024-03-22 12:00:00 2024-03-17 22:49:24         16.0   \n",
      "157         158        4 2024-03-22 15:00:00 2024-03-17 22:49:24         12.0   \n",
      "158         159        4 2024-03-22 18:00:00 2024-03-17 22:49:24         11.0   \n",
      "159         160        4 2024-03-22 21:00:00 2024-03-17 22:49:24         10.0   \n",
      "\n",
      "    weather_outlook weather_description  wind_speed  chance_rain  rain  snow  \n",
      "0            Clouds    scattered clouds         2.0          0.0   0.0   0.0  \n",
      "1            Clouds       broken clouds         3.0          0.0   0.0   0.0  \n",
      "2            Clouds     overcast clouds         3.0          0.0   0.0   0.0  \n",
      "3            Clouds     overcast clouds         3.0          0.0   0.0   0.0  \n",
      "4            Clouds       broken clouds         3.0          0.0   0.0   0.0  \n",
      "..              ...                 ...         ...          ...   ...   ...  \n",
      "155          Clouds     overcast clouds         3.0          0.0   0.0   0.0  \n",
      "156          Clouds     overcast clouds         4.0          0.0   0.0   0.0  \n",
      "157            Rain          light rain         2.0          1.0   1.0   0.0  \n",
      "158            Rain          light rain         2.0          1.0   0.0   0.0  \n",
      "159          Clouds     overcast clouds         3.0          0.0   0.0   0.0  \n",
      "\n",
      "[160 rows x 11 columns]\n",
      "  airport_icao        airport_name\n",
      "0         EDDB  Berlin Brandenburg\n",
      "1         EDDH            Hamburg \n",
      "2         EDDM             Munich \n",
      "3         EDDS          Stuttgart \n",
      "   city_id airport_icao\n",
      "0        1         EDDB\n",
      "1        2         EDDH\n",
      "2        3         EDDM\n",
      "3        4         EDDS\n",
      "     flight_id flight_number departure_airport_icao scheduled_arrival_time  \\\n",
      "0            1        EJM 85                   KCRQ    2024-03-18 05:48:00   \n",
      "1            2         QR 79                   OTHH    2024-03-18 06:50:00   \n",
      "2            3       A3 3219                   EVRA    2024-03-18 07:55:00   \n",
      "3            4        BT 211                   EVRA    2024-03-18 07:55:00   \n",
      "4            5       DS 1185                   LFSB    2024-03-18 07:40:00   \n",
      "..         ...           ...                    ...                    ...   \n",
      "909        910       LH 2152                   EDDM    2024-03-18 22:35:00   \n",
      "910        911       X3 2175                   GCFV    2024-03-18 23:15:00   \n",
      "911        912       DI 6217                   HEGN    2024-03-18 20:25:00   \n",
      "912        913       EW 2757                   LOWW    2024-03-18 20:45:00   \n",
      "913        914       VY 1866                   LEBL    2024-03-18 20:10:00   \n",
      "\n",
      "    arrival_terminal arrival_airport_icao data_collected_time  \n",
      "0               None                 EDDB 2024-03-17 22:49:25  \n",
      "1                  1                 EDDB 2024-03-17 22:49:25  \n",
      "2                  1                 EDDB 2024-03-17 22:49:25  \n",
      "3                  1                 EDDB 2024-03-17 22:49:25  \n",
      "4                  1                 EDDB 2024-03-17 22:49:25  \n",
      "..               ...                  ...                 ...  \n",
      "909                1                 EDDS 2024-03-17 22:49:28  \n",
      "910                3                 EDDS 2024-03-17 22:49:28  \n",
      "911                1                 EDDS 2024-03-17 22:49:28  \n",
      "912                1                 EDDS 2024-03-17 22:49:28  \n",
      "913                3                 EDDS 2024-03-17 22:49:28  \n",
      "\n",
      "[914 rows x 7 columns]\n"
     ]
    }
   ],
   "source": [
    "create_all_tables()"
   ]
  }
 ],
 "metadata": {
  "kernelspec": {
   "display_name": "base",
   "language": "python",
   "name": "python3"
  },
  "language_info": {
   "codemirror_mode": {
    "name": "ipython",
    "version": 3
   },
   "file_extension": ".py",
   "mimetype": "text/x-python",
   "name": "python",
   "nbconvert_exporter": "python",
   "pygments_lexer": "ipython3",
   "version": "3.11.5"
  }
 },
 "nbformat": 4,
 "nbformat_minor": 2
}
