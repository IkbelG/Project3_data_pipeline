{
 "cells": [
  {
   "cell_type": "code",
   "execution_count": 1,
   "metadata": {},
   "outputs": [],
   "source": [
    "import pandas as pd\n",
    "import requests\n",
    "from bs4 import BeautifulSoup as bs"
   ]
  },
  {
   "cell_type": "markdown",
   "metadata": {},
   "source": [
    "Utilise your web scraping skills to gather information about three German cities – Berlin, Hamburg, and Munich – from Wikipedia. You will start by extracting the population of each city and then expand the scope of your data gathering to include latitude and longitude, country, and possibly other relevant details.\n",
    "\n",
    "1. Population Scraping\n",
    "\n",
    "  1.1. Begin by scraping the population of each city from their respective Wikipedia pages:\n",
    "\n",
    " - Berlin: https://en.wikipedia.org/wiki/Berlin\n",
    " - Hamburg: https://en.wikipedia.org/wiki/Hamburg\n",
    " - Munich: https://en.wikipedia.org/wiki/Munich\n",
    "\n",
    "  1.2. Once you have scrapped the population of each city, reflect on the similarities and patterns in accessing the population data across the three pages. Also, analyse the URLs to identify any commonalities. Make a loop that executes once but simultaneously retrieves the population for all three cities.\n",
    "\n",
    "2. Data Organisation\n",
    "\n",
    "  Utilise pandas DataFrame to effectively store the extracted population data. Ensure the data is clean and properly formatted. Remove any unnecessary characters or symbols and ensure the column data types are accurate.\n",
    "\n",
    "3. Further Enhancement\n",
    "\n",
    "  3.1. Expand the scope of your data gathering by extracting other relevant information for each city:\n",
    "\n",
    " - Latitude and longitude\n",
    " - Country of location\n",
    "\n",
    "  3.2. Create a function from the loop and DataFrame to encapsulate the scraping process. This function can be used repeatedly to fetch updated data whenever necessary. It should return a clean, properly formatted DataFrame."
   ]
  },
  {
   "cell_type": "markdown",
   "metadata": {},
   "source": [
    "Getting the coordinates of only one city (Berlin)"
   ]
  },
  {
   "cell_type": "code",
   "execution_count": 2,
   "metadata": {},
   "outputs": [
    {
     "name": "stdout",
     "output_type": "stream",
     "text": [
      "52°31′12″N 13°24′18″E\n"
     ]
    }
   ],
   "source": [
    "import pandas as pd\n",
    "import requests\n",
    "from bs4 import BeautifulSoup as bs\n",
    "city_name=\"Berlin\"\n",
    "url = \"https://en.wikipedia.org/wiki/\"+city_name  # Website URL\n",
    "response = requests.get(url) # Get the response from the URL\n",
    "soup_city = bs(response.content, 'html.parser') # Use Beautiful Soup to parse the HTML \n",
    "\n",
    "latitude=soup_city.find(class_=\"latitude\").get_text() # Get the latitude \n",
    "longitude=soup_city.find(class_=\"longitude\").get_text() # Get the longitude \n",
    "print(latitude, longitude)"
   ]
  },
  {
   "cell_type": "markdown",
   "metadata": {},
   "source": [
    "First solution using lists"
   ]
  },
  {
   "cell_type": "code",
   "execution_count": 3,
   "metadata": {},
   "outputs": [],
   "source": [
    "cities = [\n",
    "    \"Berlin\",\n",
    "    \"Hamburg\",\n",
    "    \"Munich\",\n",
    "    \"Stuttgart\"\n",
    "]\n",
    "country_code=[]\n",
    "latitude=[]\n",
    "longitude=[]\n",
    "population=[]\n",
    "year=[]"
   ]
  },
  {
   "cell_type": "code",
   "execution_count": 4,
   "metadata": {},
   "outputs": [],
   "source": [
    "def get_city_info_list(cities):\n",
    "  for city_name in cities:\n",
    "    url = \"https://en.wikipedia.org/wiki/\"+city_name\n",
    "    response = requests.get(url)\n",
    "    soup_city = bs(response.content, 'html.parser')\n",
    "    #Country\n",
    "    country=soup_city.select('td.infobox-data')[0].text\n",
    "    #Country code\n",
    "    match country:\n",
    "      case \"Germany\":code=\"DE\"\n",
    "      case \"France\":code=\"FR\"\n",
    "    country_code.append(code)\n",
    "    #Coordinates\n",
    "    latitude.append(soup_city.find(class_=\"latitude\").get_text())\n",
    "    longitude.append(soup_city.find(class_=\"longitude\").get_text())\n",
    "    #Population\n",
    "    population.append(soup_city.find('table', class_='vcard').find(string=\"Population\").find_next(\"td\").text)\n",
    "    #Year\n",
    "    year.append(soup_city.find('table', class_='vcard').find(string=\"Population\").find_next(\"div\").text[2:6])\n",
    "\n",
    "  cities_df = pd.DataFrame(\n",
    "    {\"city\": cities,\n",
    "     \"country_code\": country_code,\n",
    "     \"latitude\": latitude,\n",
    "     \"longitude\": longitude,\n",
    "     \"population\": population,\n",
    "     \"year_data_retrieved\": year,\n",
    "    })\n",
    "  return cities_df"
   ]
  },
  {
   "cell_type": "code",
   "execution_count": 5,
   "metadata": {},
   "outputs": [
    {
     "data": {
      "text/html": [
       "<div>\n",
       "<style scoped>\n",
       "    .dataframe tbody tr th:only-of-type {\n",
       "        vertical-align: middle;\n",
       "    }\n",
       "\n",
       "    .dataframe tbody tr th {\n",
       "        vertical-align: top;\n",
       "    }\n",
       "\n",
       "    .dataframe thead th {\n",
       "        text-align: right;\n",
       "    }\n",
       "</style>\n",
       "<table border=\"1\" class=\"dataframe\">\n",
       "  <thead>\n",
       "    <tr style=\"text-align: right;\">\n",
       "      <th></th>\n",
       "      <th>city</th>\n",
       "      <th>country_code</th>\n",
       "      <th>latitude</th>\n",
       "      <th>longitude</th>\n",
       "      <th>population</th>\n",
       "      <th>year_data_retrieved</th>\n",
       "    </tr>\n",
       "  </thead>\n",
       "  <tbody>\n",
       "    <tr>\n",
       "      <th>0</th>\n",
       "      <td>Berlin</td>\n",
       "      <td>DE</td>\n",
       "      <td>52°31′12″N</td>\n",
       "      <td>13°24′18″E</td>\n",
       "      <td>3,576,873</td>\n",
       "      <td>2024</td>\n",
       "    </tr>\n",
       "    <tr>\n",
       "      <th>1</th>\n",
       "      <td>Hamburg</td>\n",
       "      <td>DE</td>\n",
       "      <td>53°33′N</td>\n",
       "      <td>10°00′E</td>\n",
       "      <td>1,945,532</td>\n",
       "      <td>2022</td>\n",
       "    </tr>\n",
       "    <tr>\n",
       "      <th>2</th>\n",
       "      <td>Munich</td>\n",
       "      <td>DE</td>\n",
       "      <td>48°08′15″N</td>\n",
       "      <td>11°34′30″E</td>\n",
       "      <td>1,512,491</td>\n",
       "      <td>2022</td>\n",
       "    </tr>\n",
       "    <tr>\n",
       "      <th>3</th>\n",
       "      <td>Stuttgart</td>\n",
       "      <td>DE</td>\n",
       "      <td>48°46′39″N</td>\n",
       "      <td>09°10′48″E</td>\n",
       "      <td>626,275</td>\n",
       "      <td>2021</td>\n",
       "    </tr>\n",
       "  </tbody>\n",
       "</table>\n",
       "</div>"
      ],
      "text/plain": [
       "        city country_code    latitude   longitude population  \\\n",
       "0     Berlin           DE  52°31′12″N  13°24′18″E  3,576,873   \n",
       "1    Hamburg           DE     53°33′N     10°00′E  1,945,532   \n",
       "2     Munich           DE  48°08′15″N  11°34′30″E  1,512,491   \n",
       "3  Stuttgart           DE  48°46′39″N  09°10′48″E    626,275   \n",
       "\n",
       "  year_data_retrieved  \n",
       "0                2024  \n",
       "1                2022  \n",
       "2                2022  \n",
       "3                2021  "
      ]
     },
     "execution_count": 5,
     "metadata": {},
     "output_type": "execute_result"
    }
   ],
   "source": [
    "cities_df_list=get_city_info_list(cities)\n",
    "cities_df_list"
   ]
  },
  {
   "cell_type": "markdown",
   "metadata": {},
   "source": [
    "Second solution using dictionaries"
   ]
  },
  {
   "cell_type": "code",
   "execution_count": 6,
   "metadata": {},
   "outputs": [],
   "source": [
    "cities = [\n",
    "    \"Berlin\",\n",
    "    \"Hamburg\",\n",
    "    \"Munich\",\n",
    "    \"Stuttgart\"\n",
    "]"
   ]
  },
  {
   "cell_type": "code",
   "execution_count": 7,
   "metadata": {},
   "outputs": [],
   "source": [
    "def get_city_info_dictionary(cities):\n",
    "\n",
    "  city_dic = {\"city\": [],\n",
    "    \"country_code\": [],\n",
    "    \"latitude\": [],\n",
    "    \"longitude\": [],\n",
    "    \"population\": [],\n",
    "    \"year_data_retrieved\": []\n",
    "    }\n",
    "\n",
    "  for city_name in cities:\n",
    "    url = \"https://en.wikipedia.org/wiki/\"+city_name\n",
    "    response = requests.get(url)\n",
    "    soup_city = bs(response.content, 'html.parser')\n",
    "    city_dic[\"city\"].append(city_name)\n",
    "    #Country\n",
    "    country=soup_city.select('td.infobox-data')[0].text\n",
    "    match country:\n",
    "      case \"Germany\":code=\"DE\"\n",
    "      case \"France\":code=\"FR\"\n",
    "    city_dic[\"country_code\"].append(code)\n",
    "    #Coordinates\n",
    "    city_dic[\"latitude\"].append(soup_city.find(class_=\"latitude\").get_text())\n",
    "    city_dic[\"longitude\"].append(soup_city.find(class_=\"longitude\").get_text())\n",
    "    #Population\n",
    "    city_dic[\"population\"].append(soup_city.find('table', class_='vcard').find(string=\"Population\").find_next(\"td\").text)\n",
    "    #Year\n",
    "    city_dic[\"year_data_retrieved\"].append(soup_city.find('table', class_='vcard').find(string=\"Population\").find_next(\"div\").text[2:6])\n",
    "\n",
    "    cities_df = pd.DataFrame(city_dic)\n",
    "  return cities_df"
   ]
  },
  {
   "cell_type": "code",
   "execution_count": 8,
   "metadata": {},
   "outputs": [
    {
     "data": {
      "text/html": [
       "<div>\n",
       "<style scoped>\n",
       "    .dataframe tbody tr th:only-of-type {\n",
       "        vertical-align: middle;\n",
       "    }\n",
       "\n",
       "    .dataframe tbody tr th {\n",
       "        vertical-align: top;\n",
       "    }\n",
       "\n",
       "    .dataframe thead th {\n",
       "        text-align: right;\n",
       "    }\n",
       "</style>\n",
       "<table border=\"1\" class=\"dataframe\">\n",
       "  <thead>\n",
       "    <tr style=\"text-align: right;\">\n",
       "      <th></th>\n",
       "      <th>city</th>\n",
       "      <th>country_code</th>\n",
       "      <th>latitude</th>\n",
       "      <th>longitude</th>\n",
       "      <th>population</th>\n",
       "      <th>year_data_retrieved</th>\n",
       "    </tr>\n",
       "  </thead>\n",
       "  <tbody>\n",
       "    <tr>\n",
       "      <th>0</th>\n",
       "      <td>Berlin</td>\n",
       "      <td>DE</td>\n",
       "      <td>52°31′12″N</td>\n",
       "      <td>13°24′18″E</td>\n",
       "      <td>3,576,873</td>\n",
       "      <td>2024</td>\n",
       "    </tr>\n",
       "    <tr>\n",
       "      <th>1</th>\n",
       "      <td>Hamburg</td>\n",
       "      <td>DE</td>\n",
       "      <td>53°33′N</td>\n",
       "      <td>10°00′E</td>\n",
       "      <td>1,945,532</td>\n",
       "      <td>2022</td>\n",
       "    </tr>\n",
       "    <tr>\n",
       "      <th>2</th>\n",
       "      <td>Munich</td>\n",
       "      <td>DE</td>\n",
       "      <td>48°08′15″N</td>\n",
       "      <td>11°34′30″E</td>\n",
       "      <td>1,512,491</td>\n",
       "      <td>2022</td>\n",
       "    </tr>\n",
       "    <tr>\n",
       "      <th>3</th>\n",
       "      <td>Stuttgart</td>\n",
       "      <td>DE</td>\n",
       "      <td>48°46′39″N</td>\n",
       "      <td>09°10′48″E</td>\n",
       "      <td>626,275</td>\n",
       "      <td>2021</td>\n",
       "    </tr>\n",
       "  </tbody>\n",
       "</table>\n",
       "</div>"
      ],
      "text/plain": [
       "        city country_code    latitude   longitude population  \\\n",
       "0     Berlin           DE  52°31′12″N  13°24′18″E  3,576,873   \n",
       "1    Hamburg           DE     53°33′N     10°00′E  1,945,532   \n",
       "2     Munich           DE  48°08′15″N  11°34′30″E  1,512,491   \n",
       "3  Stuttgart           DE  48°46′39″N  09°10′48″E    626,275   \n",
       "\n",
       "  year_data_retrieved  \n",
       "0                2024  \n",
       "1                2022  \n",
       "2                2022  \n",
       "3                2021  "
      ]
     },
     "execution_count": 8,
     "metadata": {},
     "output_type": "execute_result"
    }
   ],
   "source": [
    "cities_df_dic=get_city_info_dictionary(cities)\n",
    "cities_df_dic"
   ]
  },
  {
   "cell_type": "markdown",
   "metadata": {},
   "source": [
    "Data cleaning"
   ]
  },
  {
   "cell_type": "code",
   "execution_count": 9,
   "metadata": {},
   "outputs": [
    {
     "name": "stdout",
     "output_type": "stream",
     "text": [
      "<class 'pandas.core.frame.DataFrame'>\n",
      "RangeIndex: 4 entries, 0 to 3\n",
      "Data columns (total 6 columns):\n",
      " #   Column               Non-Null Count  Dtype \n",
      "---  ------               --------------  ----- \n",
      " 0   city                 4 non-null      object\n",
      " 1   country_code         4 non-null      object\n",
      " 2   latitude             4 non-null      object\n",
      " 3   longitude            4 non-null      object\n",
      " 4   population           4 non-null      object\n",
      " 5   year_data_retrieved  4 non-null      object\n",
      "dtypes: object(6)\n",
      "memory usage: 324.0+ bytes\n"
     ]
    }
   ],
   "source": [
    "cities_df_dic.info()"
   ]
  },
  {
   "cell_type": "code",
   "execution_count": 10,
   "metadata": {},
   "outputs": [],
   "source": [
    "cities_df_dic.population = cities_df_dic.population.apply(lambda x : x.replace(',',''))"
   ]
  },
  {
   "cell_type": "code",
   "execution_count": 11,
   "metadata": {},
   "outputs": [
    {
     "name": "stdout",
     "output_type": "stream",
     "text": [
      "<class 'pandas.core.frame.DataFrame'>\n",
      "RangeIndex: 4 entries, 0 to 3\n",
      "Data columns (total 6 columns):\n",
      " #   Column               Non-Null Count  Dtype \n",
      "---  ------               --------------  ----- \n",
      " 0   city                 4 non-null      object\n",
      " 1   country_code         4 non-null      object\n",
      " 2   latitude             4 non-null      object\n",
      " 3   longitude            4 non-null      object\n",
      " 4   population           4 non-null      int64 \n",
      " 5   year_data_retrieved  4 non-null      int64 \n",
      "dtypes: int64(2), object(4)\n",
      "memory usage: 324.0+ bytes\n"
     ]
    }
   ],
   "source": [
    "# Convert data columns to the right types\n",
    "cities_df_dic['population'] = cities_df_dic['population'].astype(int)\n",
    "cities_df_dic['year_data_retrieved'] = cities_df_dic['year_data_retrieved'].astype(int)\n",
    "\n",
    "# Check the changes took place and are correct\n",
    "cities_df_dic.info()"
   ]
  },
  {
   "cell_type": "code",
   "execution_count": 12,
   "metadata": {},
   "outputs": [
    {
     "data": {
      "text/html": [
       "<div>\n",
       "<style scoped>\n",
       "    .dataframe tbody tr th:only-of-type {\n",
       "        vertical-align: middle;\n",
       "    }\n",
       "\n",
       "    .dataframe tbody tr th {\n",
       "        vertical-align: top;\n",
       "    }\n",
       "\n",
       "    .dataframe thead th {\n",
       "        text-align: right;\n",
       "    }\n",
       "</style>\n",
       "<table border=\"1\" class=\"dataframe\">\n",
       "  <thead>\n",
       "    <tr style=\"text-align: right;\">\n",
       "      <th></th>\n",
       "      <th>city</th>\n",
       "      <th>country_code</th>\n",
       "      <th>latitude</th>\n",
       "      <th>longitude</th>\n",
       "      <th>population</th>\n",
       "      <th>year_data_retrieved</th>\n",
       "    </tr>\n",
       "  </thead>\n",
       "  <tbody>\n",
       "    <tr>\n",
       "      <th>0</th>\n",
       "      <td>Berlin</td>\n",
       "      <td>DE</td>\n",
       "      <td>52°31′12″N</td>\n",
       "      <td>13°24′18″E</td>\n",
       "      <td>3576873</td>\n",
       "      <td>2024</td>\n",
       "    </tr>\n",
       "    <tr>\n",
       "      <th>1</th>\n",
       "      <td>Hamburg</td>\n",
       "      <td>DE</td>\n",
       "      <td>53°33′N</td>\n",
       "      <td>10°00′E</td>\n",
       "      <td>1945532</td>\n",
       "      <td>2022</td>\n",
       "    </tr>\n",
       "    <tr>\n",
       "      <th>2</th>\n",
       "      <td>Munich</td>\n",
       "      <td>DE</td>\n",
       "      <td>48°08′15″N</td>\n",
       "      <td>11°34′30″E</td>\n",
       "      <td>1512491</td>\n",
       "      <td>2022</td>\n",
       "    </tr>\n",
       "    <tr>\n",
       "      <th>3</th>\n",
       "      <td>Stuttgart</td>\n",
       "      <td>DE</td>\n",
       "      <td>48°46′39″N</td>\n",
       "      <td>09°10′48″E</td>\n",
       "      <td>626275</td>\n",
       "      <td>2021</td>\n",
       "    </tr>\n",
       "  </tbody>\n",
       "</table>\n",
       "</div>"
      ],
      "text/plain": [
       "        city country_code    latitude   longitude  population  \\\n",
       "0     Berlin           DE  52°31′12″N  13°24′18″E     3576873   \n",
       "1    Hamburg           DE     53°33′N     10°00′E     1945532   \n",
       "2     Munich           DE  48°08′15″N  11°34′30″E     1512491   \n",
       "3  Stuttgart           DE  48°46′39″N  09°10′48″E      626275   \n",
       "\n",
       "   year_data_retrieved  \n",
       "0                 2024  \n",
       "1                 2022  \n",
       "2                 2022  \n",
       "3                 2021  "
      ]
     },
     "execution_count": 12,
     "metadata": {},
     "output_type": "execute_result"
    }
   ],
   "source": [
    "cities_df_dic"
   ]
  },
  {
   "cell_type": "markdown",
   "metadata": {},
   "source": [
    "Preparing tables to send them to SQL"
   ]
  },
  {
   "cell_type": "code",
   "execution_count": 13,
   "metadata": {},
   "outputs": [
    {
     "data": {
      "text/html": [
       "<div>\n",
       "<style scoped>\n",
       "    .dataframe tbody tr th:only-of-type {\n",
       "        vertical-align: middle;\n",
       "    }\n",
       "\n",
       "    .dataframe tbody tr th {\n",
       "        vertical-align: top;\n",
       "    }\n",
       "\n",
       "    .dataframe thead th {\n",
       "        text-align: right;\n",
       "    }\n",
       "</style>\n",
       "<table border=\"1\" class=\"dataframe\">\n",
       "  <thead>\n",
       "    <tr style=\"text-align: right;\">\n",
       "      <th></th>\n",
       "      <th>city</th>\n",
       "      <th>country_code</th>\n",
       "    </tr>\n",
       "  </thead>\n",
       "  <tbody>\n",
       "    <tr>\n",
       "      <th>0</th>\n",
       "      <td>Berlin</td>\n",
       "      <td>DE</td>\n",
       "    </tr>\n",
       "    <tr>\n",
       "      <th>1</th>\n",
       "      <td>Hamburg</td>\n",
       "      <td>DE</td>\n",
       "    </tr>\n",
       "    <tr>\n",
       "      <th>2</th>\n",
       "      <td>Munich</td>\n",
       "      <td>DE</td>\n",
       "    </tr>\n",
       "    <tr>\n",
       "      <th>3</th>\n",
       "      <td>Stuttgart</td>\n",
       "      <td>DE</td>\n",
       "    </tr>\n",
       "  </tbody>\n",
       "</table>\n",
       "</div>"
      ],
      "text/plain": [
       "        city country_code\n",
       "0     Berlin           DE\n",
       "1    Hamburg           DE\n",
       "2     Munich           DE\n",
       "3  Stuttgart           DE"
      ]
     },
     "execution_count": 13,
     "metadata": {},
     "output_type": "execute_result"
    }
   ],
   "source": [
    "cities_country_df=cities_df_dic.loc[:,[\"city\",\"country_code\"]]\n",
    "cities_country_df"
   ]
  },
  {
   "cell_type": "code",
   "execution_count": 14,
   "metadata": {},
   "outputs": [
    {
     "data": {
      "text/html": [
       "<div>\n",
       "<style scoped>\n",
       "    .dataframe tbody tr th:only-of-type {\n",
       "        vertical-align: middle;\n",
       "    }\n",
       "\n",
       "    .dataframe tbody tr th {\n",
       "        vertical-align: top;\n",
       "    }\n",
       "\n",
       "    .dataframe thead th {\n",
       "        text-align: right;\n",
       "    }\n",
       "</style>\n",
       "<table border=\"1\" class=\"dataframe\">\n",
       "  <thead>\n",
       "    <tr style=\"text-align: right;\">\n",
       "      <th></th>\n",
       "      <th>city</th>\n",
       "      <th>latitude</th>\n",
       "      <th>longitude</th>\n",
       "      <th>population</th>\n",
       "      <th>year_data_retrieved</th>\n",
       "    </tr>\n",
       "  </thead>\n",
       "  <tbody>\n",
       "    <tr>\n",
       "      <th>0</th>\n",
       "      <td>Berlin</td>\n",
       "      <td>52°31′12″N</td>\n",
       "      <td>13°24′18″E</td>\n",
       "      <td>3576873</td>\n",
       "      <td>2024</td>\n",
       "    </tr>\n",
       "    <tr>\n",
       "      <th>1</th>\n",
       "      <td>Hamburg</td>\n",
       "      <td>53°33′N</td>\n",
       "      <td>10°00′E</td>\n",
       "      <td>1945532</td>\n",
       "      <td>2022</td>\n",
       "    </tr>\n",
       "    <tr>\n",
       "      <th>2</th>\n",
       "      <td>Munich</td>\n",
       "      <td>48°08′15″N</td>\n",
       "      <td>11°34′30″E</td>\n",
       "      <td>1512491</td>\n",
       "      <td>2022</td>\n",
       "    </tr>\n",
       "    <tr>\n",
       "      <th>3</th>\n",
       "      <td>Stuttgart</td>\n",
       "      <td>48°46′39″N</td>\n",
       "      <td>09°10′48″E</td>\n",
       "      <td>626275</td>\n",
       "      <td>2021</td>\n",
       "    </tr>\n",
       "  </tbody>\n",
       "</table>\n",
       "</div>"
      ],
      "text/plain": [
       "        city    latitude   longitude  population  year_data_retrieved\n",
       "0     Berlin  52°31′12″N  13°24′18″E     3576873                 2024\n",
       "1    Hamburg     53°33′N     10°00′E     1945532                 2022\n",
       "2     Munich  48°08′15″N  11°34′30″E     1512491                 2022\n",
       "3  Stuttgart  48°46′39″N  09°10′48″E      626275                 2021"
      ]
     },
     "execution_count": 14,
     "metadata": {},
     "output_type": "execute_result"
    }
   ],
   "source": [
    "cities_infos_df=cities_df_dic.loc[:,[\"city\",\"latitude\",\"longitude\",\"population\",\"year_data_retrieved\"]]\n",
    "cities_infos_df"
   ]
  },
  {
   "cell_type": "markdown",
   "metadata": {},
   "source": [
    "Connect to SQL"
   ]
  },
  {
   "cell_type": "code",
   "execution_count": 15,
   "metadata": {},
   "outputs": [],
   "source": [
    "# install if needed\n",
    "# !pip install sqlalchemy"
   ]
  },
  {
   "cell_type": "code",
   "execution_count": 16,
   "metadata": {},
   "outputs": [],
   "source": [
    "from my_passwords import my_password"
   ]
  },
  {
   "cell_type": "code",
   "execution_count": 17,
   "metadata": {},
   "outputs": [],
   "source": [
    "# Connect to the database\n",
    "schema = \"gans\"\n",
    "host = \"127.0.0.1\"\n",
    "user = \"root\"\n",
    "password = my_password\n",
    "port = 3306\n",
    "\n",
    "connection_string = f'mysql+pymysql://{user}:{password}@{host}:{port}/{schema}'"
   ]
  },
  {
   "cell_type": "code",
   "execution_count": 18,
   "metadata": {},
   "outputs": [
    {
     "data": {
      "text/plain": [
       "4"
      ]
     },
     "execution_count": 18,
     "metadata": {},
     "output_type": "execute_result"
    }
   ],
   "source": [
    "# Send data of cities_country_df to \"cities\" table\n",
    "cities_country_df.to_sql('cities',\n",
    "                  if_exists='append',\n",
    "                  con=connection_string,\n",
    "                  index=False)"
   ]
  },
  {
   "cell_type": "code",
   "execution_count": 19,
   "metadata": {},
   "outputs": [
    {
     "data": {
      "text/html": [
       "<div>\n",
       "<style scoped>\n",
       "    .dataframe tbody tr th:only-of-type {\n",
       "        vertical-align: middle;\n",
       "    }\n",
       "\n",
       "    .dataframe tbody tr th {\n",
       "        vertical-align: top;\n",
       "    }\n",
       "\n",
       "    .dataframe thead th {\n",
       "        text-align: right;\n",
       "    }\n",
       "</style>\n",
       "<table border=\"1\" class=\"dataframe\">\n",
       "  <thead>\n",
       "    <tr style=\"text-align: right;\">\n",
       "      <th></th>\n",
       "      <th>city_id</th>\n",
       "      <th>city</th>\n",
       "      <th>country_code</th>\n",
       "    </tr>\n",
       "  </thead>\n",
       "  <tbody>\n",
       "    <tr>\n",
       "      <th>0</th>\n",
       "      <td>1</td>\n",
       "      <td>Berlin</td>\n",
       "      <td>DE</td>\n",
       "    </tr>\n",
       "    <tr>\n",
       "      <th>1</th>\n",
       "      <td>2</td>\n",
       "      <td>Hamburg</td>\n",
       "      <td>DE</td>\n",
       "    </tr>\n",
       "    <tr>\n",
       "      <th>2</th>\n",
       "      <td>3</td>\n",
       "      <td>Munich</td>\n",
       "      <td>DE</td>\n",
       "    </tr>\n",
       "    <tr>\n",
       "      <th>3</th>\n",
       "      <td>4</td>\n",
       "      <td>Stuttgart</td>\n",
       "      <td>DE</td>\n",
       "    </tr>\n",
       "  </tbody>\n",
       "</table>\n",
       "</div>"
      ],
      "text/plain": [
       "   city_id       city country_code\n",
       "0        1     Berlin           DE\n",
       "1        2    Hamburg           DE\n",
       "2        3     Munich           DE\n",
       "3        4  Stuttgart           DE"
      ]
     },
     "execution_count": 19,
     "metadata": {},
     "output_type": "execute_result"
    }
   ],
   "source": [
    "# Get the table \"cities\"\n",
    "cities_from_sql = pd.read_sql(\"cities\", con=connection_string)\n",
    "cities_from_sql"
   ]
  },
  {
   "cell_type": "code",
   "execution_count": 20,
   "metadata": {},
   "outputs": [
    {
     "data": {
      "text/html": [
       "<div>\n",
       "<style scoped>\n",
       "    .dataframe tbody tr th:only-of-type {\n",
       "        vertical-align: middle;\n",
       "    }\n",
       "\n",
       "    .dataframe tbody tr th {\n",
       "        vertical-align: top;\n",
       "    }\n",
       "\n",
       "    .dataframe thead th {\n",
       "        text-align: right;\n",
       "    }\n",
       "</style>\n",
       "<table border=\"1\" class=\"dataframe\">\n",
       "  <thead>\n",
       "    <tr style=\"text-align: right;\">\n",
       "      <th></th>\n",
       "      <th>city</th>\n",
       "      <th>latitude</th>\n",
       "      <th>longitude</th>\n",
       "      <th>population</th>\n",
       "      <th>year_data_retrieved</th>\n",
       "      <th>city_id</th>\n",
       "      <th>country_code</th>\n",
       "    </tr>\n",
       "  </thead>\n",
       "  <tbody>\n",
       "    <tr>\n",
       "      <th>0</th>\n",
       "      <td>Berlin</td>\n",
       "      <td>52°31′12″N</td>\n",
       "      <td>13°24′18″E</td>\n",
       "      <td>3576873</td>\n",
       "      <td>2024</td>\n",
       "      <td>1</td>\n",
       "      <td>DE</td>\n",
       "    </tr>\n",
       "    <tr>\n",
       "      <th>1</th>\n",
       "      <td>Hamburg</td>\n",
       "      <td>53°33′N</td>\n",
       "      <td>10°00′E</td>\n",
       "      <td>1945532</td>\n",
       "      <td>2022</td>\n",
       "      <td>2</td>\n",
       "      <td>DE</td>\n",
       "    </tr>\n",
       "    <tr>\n",
       "      <th>2</th>\n",
       "      <td>Munich</td>\n",
       "      <td>48°08′15″N</td>\n",
       "      <td>11°34′30″E</td>\n",
       "      <td>1512491</td>\n",
       "      <td>2022</td>\n",
       "      <td>3</td>\n",
       "      <td>DE</td>\n",
       "    </tr>\n",
       "    <tr>\n",
       "      <th>3</th>\n",
       "      <td>Stuttgart</td>\n",
       "      <td>48°46′39″N</td>\n",
       "      <td>09°10′48″E</td>\n",
       "      <td>626275</td>\n",
       "      <td>2021</td>\n",
       "      <td>4</td>\n",
       "      <td>DE</td>\n",
       "    </tr>\n",
       "  </tbody>\n",
       "</table>\n",
       "</div>"
      ],
      "text/plain": [
       "        city    latitude   longitude  population  year_data_retrieved  \\\n",
       "0     Berlin  52°31′12″N  13°24′18″E     3576873                 2024   \n",
       "1    Hamburg     53°33′N     10°00′E     1945532                 2022   \n",
       "2     Munich  48°08′15″N  11°34′30″E     1512491                 2022   \n",
       "3  Stuttgart  48°46′39″N  09°10′48″E      626275                 2021   \n",
       "\n",
       "   city_id country_code  \n",
       "0        1           DE  \n",
       "1        2           DE  \n",
       "2        3           DE  \n",
       "3        4           DE  "
      ]
     },
     "execution_count": 20,
     "metadata": {},
     "output_type": "execute_result"
    }
   ],
   "source": [
    "# Merge city_infos_df with cities_from_sql to get the city ID\n",
    "city_infos_df = cities_infos_df.merge(cities_from_sql,\n",
    "                                   on = \"city\",\n",
    "                                   how=\"left\")\n",
    "\n",
    "city_infos_df"
   ]
  },
  {
   "cell_type": "code",
   "execution_count": 21,
   "metadata": {},
   "outputs": [
    {
     "data": {
      "text/html": [
       "<div>\n",
       "<style scoped>\n",
       "    .dataframe tbody tr th:only-of-type {\n",
       "        vertical-align: middle;\n",
       "    }\n",
       "\n",
       "    .dataframe tbody tr th {\n",
       "        vertical-align: top;\n",
       "    }\n",
       "\n",
       "    .dataframe thead th {\n",
       "        text-align: right;\n",
       "    }\n",
       "</style>\n",
       "<table border=\"1\" class=\"dataframe\">\n",
       "  <thead>\n",
       "    <tr style=\"text-align: right;\">\n",
       "      <th></th>\n",
       "      <th>latitude</th>\n",
       "      <th>longitude</th>\n",
       "      <th>population</th>\n",
       "      <th>year_data_retrieved</th>\n",
       "      <th>city_id</th>\n",
       "    </tr>\n",
       "  </thead>\n",
       "  <tbody>\n",
       "    <tr>\n",
       "      <th>0</th>\n",
       "      <td>52°31′12″N</td>\n",
       "      <td>13°24′18″E</td>\n",
       "      <td>3576873</td>\n",
       "      <td>2024</td>\n",
       "      <td>1</td>\n",
       "    </tr>\n",
       "    <tr>\n",
       "      <th>1</th>\n",
       "      <td>53°33′N</td>\n",
       "      <td>10°00′E</td>\n",
       "      <td>1945532</td>\n",
       "      <td>2022</td>\n",
       "      <td>2</td>\n",
       "    </tr>\n",
       "    <tr>\n",
       "      <th>2</th>\n",
       "      <td>48°08′15″N</td>\n",
       "      <td>11°34′30″E</td>\n",
       "      <td>1512491</td>\n",
       "      <td>2022</td>\n",
       "      <td>3</td>\n",
       "    </tr>\n",
       "    <tr>\n",
       "      <th>3</th>\n",
       "      <td>48°46′39″N</td>\n",
       "      <td>09°10′48″E</td>\n",
       "      <td>626275</td>\n",
       "      <td>2021</td>\n",
       "      <td>4</td>\n",
       "    </tr>\n",
       "  </tbody>\n",
       "</table>\n",
       "</div>"
      ],
      "text/plain": [
       "     latitude   longitude  population  year_data_retrieved  city_id\n",
       "0  52°31′12″N  13°24′18″E     3576873                 2024        1\n",
       "1     53°33′N     10°00′E     1945532                 2022        2\n",
       "2  48°08′15″N  11°34′30″E     1512491                 2022        3\n",
       "3  48°46′39″N  09°10′48″E      626275                 2021        4"
      ]
     },
     "execution_count": 21,
     "metadata": {},
     "output_type": "execute_result"
    }
   ],
   "source": [
    "# Drop the two columns \"city\" and \"country_code\"\n",
    "city_infos_df = city_infos_df.drop(columns=[\"city\",\"country_code\"])\n",
    "city_infos_df"
   ]
  },
  {
   "cell_type": "code",
   "execution_count": 22,
   "metadata": {},
   "outputs": [
    {
     "data": {
      "text/html": [
       "<div>\n",
       "<style scoped>\n",
       "    .dataframe tbody tr th:only-of-type {\n",
       "        vertical-align: middle;\n",
       "    }\n",
       "\n",
       "    .dataframe tbody tr th {\n",
       "        vertical-align: top;\n",
       "    }\n",
       "\n",
       "    .dataframe thead th {\n",
       "        text-align: right;\n",
       "    }\n",
       "</style>\n",
       "<table border=\"1\" class=\"dataframe\">\n",
       "  <thead>\n",
       "    <tr style=\"text-align: right;\">\n",
       "      <th></th>\n",
       "      <th>city_id</th>\n",
       "      <th>latitude</th>\n",
       "      <th>longitude</th>\n",
       "      <th>population</th>\n",
       "      <th>year_data_retrieved</th>\n",
       "    </tr>\n",
       "  </thead>\n",
       "  <tbody>\n",
       "    <tr>\n",
       "      <th>0</th>\n",
       "      <td>1</td>\n",
       "      <td>52°31′12″N</td>\n",
       "      <td>13°24′18″E</td>\n",
       "      <td>3576873</td>\n",
       "      <td>2024</td>\n",
       "    </tr>\n",
       "    <tr>\n",
       "      <th>1</th>\n",
       "      <td>2</td>\n",
       "      <td>53°33′N</td>\n",
       "      <td>10°00′E</td>\n",
       "      <td>1945532</td>\n",
       "      <td>2022</td>\n",
       "    </tr>\n",
       "    <tr>\n",
       "      <th>2</th>\n",
       "      <td>3</td>\n",
       "      <td>48°08′15″N</td>\n",
       "      <td>11°34′30″E</td>\n",
       "      <td>1512491</td>\n",
       "      <td>2022</td>\n",
       "    </tr>\n",
       "    <tr>\n",
       "      <th>3</th>\n",
       "      <td>4</td>\n",
       "      <td>48°46′39″N</td>\n",
       "      <td>09°10′48″E</td>\n",
       "      <td>626275</td>\n",
       "      <td>2021</td>\n",
       "    </tr>\n",
       "  </tbody>\n",
       "</table>\n",
       "</div>"
      ],
      "text/plain": [
       "   city_id    latitude   longitude  population  year_data_retrieved\n",
       "0        1  52°31′12″N  13°24′18″E     3576873                 2024\n",
       "1        2     53°33′N     10°00′E     1945532                 2022\n",
       "2        3  48°08′15″N  11°34′30″E     1512491                 2022\n",
       "3        4  48°46′39″N  09°10′48″E      626275                 2021"
      ]
     },
     "execution_count": 22,
     "metadata": {},
     "output_type": "execute_result"
    }
   ],
   "source": [
    "# Change the order of the columns\n",
    "city_infos_df=city_infos_df[[\"city_id\",\"latitude\",\"longitude\",\"population\",\"year_data_retrieved\"]]\n",
    "city_infos_df"
   ]
  },
  {
   "cell_type": "code",
   "execution_count": 23,
   "metadata": {},
   "outputs": [
    {
     "data": {
      "text/plain": [
       "4"
      ]
     },
     "execution_count": 23,
     "metadata": {},
     "output_type": "execute_result"
    }
   ],
   "source": [
    "# Send data of city_infos_df to \"city_infos\" table\n",
    "city_infos_df.to_sql('city_infos',\n",
    "                if_exists='append',\n",
    "                con=connection_string,\n",
    "                index=False)"
   ]
  },
  {
   "cell_type": "code",
   "execution_count": 24,
   "metadata": {},
   "outputs": [
    {
     "data": {
      "text/html": [
       "<div>\n",
       "<style scoped>\n",
       "    .dataframe tbody tr th:only-of-type {\n",
       "        vertical-align: middle;\n",
       "    }\n",
       "\n",
       "    .dataframe tbody tr th {\n",
       "        vertical-align: top;\n",
       "    }\n",
       "\n",
       "    .dataframe thead th {\n",
       "        text-align: right;\n",
       "    }\n",
       "</style>\n",
       "<table border=\"1\" class=\"dataframe\">\n",
       "  <thead>\n",
       "    <tr style=\"text-align: right;\">\n",
       "      <th></th>\n",
       "      <th>city_id</th>\n",
       "      <th>latitude</th>\n",
       "      <th>longitude</th>\n",
       "      <th>population</th>\n",
       "      <th>year_data_retrieved</th>\n",
       "    </tr>\n",
       "  </thead>\n",
       "  <tbody>\n",
       "    <tr>\n",
       "      <th>0</th>\n",
       "      <td>1</td>\n",
       "      <td>52°31′12″N</td>\n",
       "      <td>13°24′18″E</td>\n",
       "      <td>3576873</td>\n",
       "      <td>2024</td>\n",
       "    </tr>\n",
       "    <tr>\n",
       "      <th>1</th>\n",
       "      <td>2</td>\n",
       "      <td>53°33′N</td>\n",
       "      <td>10°00′E</td>\n",
       "      <td>1945532</td>\n",
       "      <td>2022</td>\n",
       "    </tr>\n",
       "    <tr>\n",
       "      <th>2</th>\n",
       "      <td>3</td>\n",
       "      <td>48°08′15″N</td>\n",
       "      <td>11°34′30″E</td>\n",
       "      <td>1512491</td>\n",
       "      <td>2022</td>\n",
       "    </tr>\n",
       "    <tr>\n",
       "      <th>3</th>\n",
       "      <td>4</td>\n",
       "      <td>48°46′39″N</td>\n",
       "      <td>09°10′48″E</td>\n",
       "      <td>626275</td>\n",
       "      <td>2021</td>\n",
       "    </tr>\n",
       "  </tbody>\n",
       "</table>\n",
       "</div>"
      ],
      "text/plain": [
       "   city_id    latitude   longitude  population  year_data_retrieved\n",
       "0        1  52°31′12″N  13°24′18″E     3576873                 2024\n",
       "1        2     53°33′N     10°00′E     1945532                 2022\n",
       "2        3  48°08′15″N  11°34′30″E     1512491                 2022\n",
       "3        4  48°46′39″N  09°10′48″E      626275                 2021"
      ]
     },
     "execution_count": 24,
     "metadata": {},
     "output_type": "execute_result"
    }
   ],
   "source": [
    "# Get the table \"city_infos\"\n",
    "city_infos_from_sql = pd.read_sql(\"city_infos\", con=connection_string)\n",
    "city_infos_from_sql"
   ]
  }
 ],
 "metadata": {
  "kernelspec": {
   "display_name": "base",
   "language": "python",
   "name": "python3"
  },
  "language_info": {
   "codemirror_mode": {
    "name": "ipython",
    "version": 3
   },
   "file_extension": ".py",
   "mimetype": "text/x-python",
   "name": "python",
   "nbconvert_exporter": "python",
   "pygments_lexer": "ipython3",
   "version": "3.11.5"
  }
 },
 "nbformat": 4,
 "nbformat_minor": 2
}
